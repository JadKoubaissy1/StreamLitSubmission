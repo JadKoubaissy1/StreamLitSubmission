{
 "cells": [
  {
   "cell_type": "code",
   "execution_count": 1,
   "id": "49e75c3a-af66-44bb-9910-48e73ef63e7b",
   "metadata": {},
   "outputs": [
    {
     "name": "stderr",
     "output_type": "stream",
     "text": [
      "2024-09-23 23:02:35.143 \n",
      "  \u001b[33m\u001b[1mWarning:\u001b[0m to view this Streamlit app on a browser, run it with the following\n",
      "  command:\n",
      "\n",
      "    streamlit run C:\\Users\\User\\anaconda3\\Lib\\site-packages\\ipykernel_launcher.py [ARGUMENTS]\n"
     ]
    },
    {
     "data": {
      "text/plain": [
       "DeltaGenerator()"
      ]
     },
     "execution_count": 1,
     "metadata": {},
     "output_type": "execute_result"
    }
   ],
   "source": [
    "import streamlit as st\n",
    "import pandas as pd\n",
    "import plotly.express as px\n",
    "\n",
    "st.title(\"Waste Transfer Bar Chart Visualization\")\n",
    "\n",
    "file_path = 'C:/Users/User/Desktop/WasteByRegion.csv'\n",
    "df = pd.read_csv(file_path)\n",
    "\n",
    "df.rename(columns={\n",
    "    'Waste transfer destination - factory': 'Waste destination: factory',\n",
    "    'Waste transfer destination - unknown': 'Waste destination: unknown',\n",
    "    'Waste transfer destination - internal dumpsite': 'Waste destination: internal dumpsite',\n",
    "    'Waste transfer destination - external dumpsite': 'Waste destination: external dumpsite',\n",
    "    'Waste transfer destination - sanitary landfill': 'Waste destination: sanitary landfill'\n",
    "}, inplace=True)\n",
    "\n",
    "def categorize_region(area):\n",
    "    if 'Beirut' in area:\n",
    "        return 'Beirut'\n",
    "    elif 'North' in area:\n",
    "        return 'North'\n",
    "    elif 'South' in area:\n",
    "        return 'South'\n",
    "    elif 'Bekaa' in area or 'Baalbek' in area or 'Hermel' in area or 'Zahle' in area:\n",
    "        return 'East'\n",
    "    elif 'Mount Lebanon' in area:\n",
    "        return 'West'\n",
    "    else:\n",
    "        return 'West'\n",
    "\n",
    "df['Region_Category'] = df['refArea'].apply(lambda x: categorize_region(x))\n",
    "\n",
    "waste_columns = [\n",
    "    'Waste destination: factory', \n",
    "    'Waste destination: unknown', \n",
    "    'Waste destination: internal dumpsite', \n",
    "    'Waste destination: external dumpsite', \n",
    "    'Waste destination: sanitary landfill'\n",
    "]\n",
    "\n",
    "df_grouped = df.groupby(['Region_Category'])[waste_columns].sum().reset_index()\n",
    "df_melted = df_grouped.melt(id_vars='Region_Category', var_name='Waste Transfer Type', value_name='Count')\n",
    "\n",
    "fig = px.bar(\n",
    "    df_melted, \n",
    "    x='Region_Category', \n",
    "    y='Count', \n",
    "    color='Waste Transfer Type', \n",
    "    title='Waste Transfer Destinations by Region',\n",
    "    labels={'Region_Category': 'Region', 'Count': 'Total Waste Transfers'},\n",
    "    text_auto=True\n",
    ")\n",
    "\n",
    "st.plotly_chart(fig)\n"
   ]
  },
  {
   "cell_type": "code",
   "execution_count": null,
   "id": "52d9f145-2d36-4d67-a4b6-37e2d6187f1b",
   "metadata": {},
   "outputs": [],
   "source": []
  }
 ],
 "metadata": {
  "kernelspec": {
   "display_name": "Python 3 (ipykernel)",
   "language": "python",
   "name": "python3"
  },
  "language_info": {
   "codemirror_mode": {
    "name": "ipython",
    "version": 3
   },
   "file_extension": ".py",
   "mimetype": "text/x-python",
   "name": "python",
   "nbconvert_exporter": "python",
   "pygments_lexer": "ipython3",
   "version": "3.12.4"
  }
 },
 "nbformat": 4,
 "nbformat_minor": 5
}
