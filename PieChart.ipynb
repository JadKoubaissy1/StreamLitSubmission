{
 "cells": [
  {
   "cell_type": "code",
   "execution_count": null,
   "id": "700ebb97-58a3-4f06-a0ac-b43267d14e7d",
   "metadata": {},
   "outputs": [],
   "source": [
    "import streamlit as st\n",
    "import pandas as pd\n",
    "import plotly.express as px\n",
    "\n",
    "st.title(\"Proportion of Waste Transfer Types - Pie Chart\")\n",
    "\n",
    "file_path = 'C:/Users/User/Desktop/WasteByRegion.csv'\n",
    "df = pd.read_csv(file_path)\n",
    "\n",
    "df.rename(columns={\n",
    "    'Waste transfer destination - factory': 'Waste destination: factory',\n",
    "    'Waste transfer destination - unknown': 'Waste destination: unknown',\n",
    "    'Waste transfer destination - internal dumpsite': 'Waste destination: internal dumpsite',\n",
    "    'Waste transfer destination - external dumpsite': 'Waste destination: external dumpsite',\n",
    "    'Waste transfer destination - sanitary landfill': 'Waste destination: sanitary landfill'\n",
    "}, inplace=True)\n",
    "\n",
    "df_melted = df.melt(id_vars=['Region_Category'], \n",
    "                    value_vars=waste_columns, \n",
    "                    var_name='Waste Transfer Type', \n",
    "                    value_name='Count')\n",
    "\n",
    "fig = px.pie(\n",
    "    df_melted, \n",
    "    names='Waste Transfer Type', \n",
    "    values='Count', \n",
    "    title='Proportion of Waste Transfer Types (Overall)',\n",
    "    height=600\n",
    ")\n",
    "\n",
    "st.plotly_chart(fig)\n"
   ]
  }
 ],
 "metadata": {
  "kernelspec": {
   "display_name": "Python 3 (ipykernel)",
   "language": "python",
   "name": "python3"
  },
  "language_info": {
   "codemirror_mode": {
    "name": "ipython",
    "version": 3
   },
   "file_extension": ".py",
   "mimetype": "text/x-python",
   "name": "python",
   "nbconvert_exporter": "python",
   "pygments_lexer": "ipython3",
   "version": "3.12.4"
  }
 },
 "nbformat": 4,
 "nbformat_minor": 5
}
